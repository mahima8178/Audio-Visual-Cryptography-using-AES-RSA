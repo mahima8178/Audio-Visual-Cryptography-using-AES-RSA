{
  "nbformat": 4,
  "nbformat_minor": 0,
  "metadata": {
    "colab": {
      "name": "AES&RSA on Audio Files.ipynb",
      "provenance": [],
      "mount_file_id": "1QtkSbLKLWRoXuLR9-BPw_NLD89wgAIXB",
      "authorship_tag": "ABX9TyOyEo0JB9AlROPkdFP/Mrpp",
      "include_colab_link": true
    },
    "kernelspec": {
      "name": "python3",
      "display_name": "Python 3"
    },
    "language_info": {
      "name": "python"
    }
  },
  "cells": [
    {
      "cell_type": "markdown",
      "metadata": {
        "id": "view-in-github",
        "colab_type": "text"
      },
      "source": [
        "<a href=\"https://colab.research.google.com/github/mahima8178/Audio-Visual-Cryptography-using-AES-RSA/blob/main/on_Audio_Files.ipynb\" target=\"_parent\"><img src=\"https://colab.research.google.com/assets/colab-badge.svg\" alt=\"Open In Colab\"/></a>"
      ]
    },
    {
      "cell_type": "code",
      "metadata": {
        "colab": {
          "base_uri": "https://localhost:8080/"
        },
        "id": "PmAfHiiH9uoY",
        "outputId": "0364ee89-7c8f-49e9-a25c-51040f2cbf0f"
      },
      "source": [
        "\n",
        "from google.colab import drive\n",
        "drive.mount('/content/drive')"
      ],
      "execution_count": null,
      "outputs": [
        {
          "output_type": "stream",
          "text": [
            "Drive already mounted at /content/drive; to attempt to forcibly remount, call drive.mount(\"/content/drive\", force_remount=True).\n"
          ],
          "name": "stdout"
        }
      ]
    },
    {
      "cell_type": "code",
      "metadata": {
        "id": "I-h6aEh_F9RP"
      },
      "source": [
        "import os\n",
        "os.environ['KAGGLE_CONFIG_DIR'] = \"/content/drive/My Drive/Kaggle\""
      ],
      "execution_count": null,
      "outputs": []
    },
    {
      "cell_type": "code",
      "metadata": {
        "colab": {
          "base_uri": "https://localhost:8080/"
        },
        "id": "pubsf4NAF_7p",
        "outputId": "c8d4689b-267a-4a6e-85eb-aba2b40613d7"
      },
      "source": [
        "%cd /content/drive/My Drive/Kaggle"
      ],
      "execution_count": null,
      "outputs": [
        {
          "output_type": "stream",
          "text": [
            "/content/drive/My Drive/Kaggle\n"
          ],
          "name": "stdout"
        }
      ]
    },
    {
      "cell_type": "code",
      "metadata": {
        "id": "-IM67Yj_JYmF"
      },
      "source": [
        ""
      ],
      "execution_count": null,
      "outputs": []
    },
    {
      "cell_type": "markdown",
      "metadata": {
        "id": "446MlW41JZGl"
      },
      "source": [
        "**Importing dependencies**"
      ]
    },
    {
      "cell_type": "code",
      "metadata": {
        "colab": {
          "base_uri": "https://localhost:8080/"
        },
        "id": "ku9psNdiAltK",
        "outputId": "e35cfe8f-0eaa-44b1-b55b-67a261eb064c"
      },
      "source": [
        "!pip install sounddevice"
      ],
      "execution_count": null,
      "outputs": [
        {
          "output_type": "stream",
          "text": [
            "Requirement already satisfied: sounddevice in /root/.local/lib/python3.7/site-packages (0.4.1)\n",
            "Requirement already satisfied: CFFI>=1.0 in /usr/local/lib/python3.7/dist-packages (from sounddevice) (1.14.5)\n",
            "Requirement already satisfied: pycparser in /usr/local/lib/python3.7/dist-packages (from CFFI>=1.0->sounddevice) (2.20)\n"
          ],
          "name": "stdout"
        }
      ]
    },
    {
      "cell_type": "code",
      "metadata": {
        "id": "lksoXCZxBFDx"
      },
      "source": [
        "from ctypes.util import find_library\n",
        "find_library('PortAudio')"
      ],
      "execution_count": null,
      "outputs": []
    },
    {
      "cell_type": "code",
      "metadata": {
        "colab": {
          "base_uri": "https://localhost:8080/"
        },
        "id": "ly4U4YVNBgV5",
        "outputId": "8fdd0719-46fe-43f4-c156-15fcf6723b17"
      },
      "source": [
        "!pip install pycryptodomex\n",
        "from Cryptodome.Cipher import AES "
      ],
      "execution_count": null,
      "outputs": [
        {
          "output_type": "stream",
          "text": [
            "Requirement already satisfied: pycryptodomex in /usr/local/lib/python3.7/dist-packages (3.10.1)\n"
          ],
          "name": "stdout"
        }
      ]
    },
    {
      "cell_type": "code",
      "metadata": {
        "id": "SuBO5G31ASAj"
      },
      "source": [
        "from scipy.io import wavfile\n",
        "import numpy as np\n",
        "import matplotlib.pyplot as plt\n",
        "import sounddevice as sd\n",
        "\n",
        "import random\n",
        "import string\n",
        "from Cryptodome.Cipher import AES"
      ],
      "execution_count": null,
      "outputs": []
    },
    {
      "cell_type": "code",
      "metadata": {
        "id": "OjGOZj7PFQOF"
      },
      "source": [
        ""
      ],
      "execution_count": null,
      "outputs": []
    },
    {
      "cell_type": "markdown",
      "metadata": {
        "id": "jYtKOufPKO52"
      },
      "source": [
        "**USING AES ALGORITHM ON AUDIO FILE**"
      ]
    },
    {
      "cell_type": "markdown",
      "metadata": {
        "id": "QGG1AK9bBrBt"
      },
      "source": [
        "**Taking input**"
      ]
    },
    {
      "cell_type": "code",
      "metadata": {
        "colab": {
          "base_uri": "https://localhost:8080/",
          "height": 299
        },
        "id": "E3DU3j3sECGq",
        "outputId": "25d752d9-9dfb-4ad4-e78c-7f362da4080b"
      },
      "source": [
        "fs, data = wavfile.read('Audio-encryption-and-decryption-master/Audio-encryption-and-decryption-master/audio.wav')\n",
        "plt.plot(data)            # fs = sampling frequency = 44.1kHz\n",
        "plt.title(\"Original Audio Plot\")"
      ],
      "execution_count": null,
      "outputs": [
        {
          "output_type": "execute_result",
          "data": {
            "text/plain": [
              "Text(0.5, 1.0, 'Original Audio Plot')"
            ]
          },
          "metadata": {
            "tags": []
          },
          "execution_count": 32
        },
        {
          "output_type": "display_data",
          "data": {
            "image/png": "[encoded data removed]",
            "text/plain": [
              "<Figure size 432x288 with 1 Axes>"
            ]
          },
          "metadata": {
            "tags": [],
            "needs_background": "light"
          }
        }
      ]
    },
    {
      "cell_type": "code",
      "metadata": {
        "id": "UOO1UAARFR1k"
      },
      "source": [
        "with open('Audio-encryption-and-decryption-master/Audio-encryption-and-decryption-master/audio.wav', 'rb') as fd:\n",
        "    contents = fd.read()"
      ],
      "execution_count": null,
      "outputs": []
    },
    {
      "cell_type": "code",
      "metadata": {
        "id": "xCZFo9NaGZtU"
      },
      "source": [
        ""
      ],
      "execution_count": null,
      "outputs": []
    },
    {
      "cell_type": "markdown",
      "metadata": {
        "id": "PkvQ6DjVJhVq"
      },
      "source": [
        "**Getting ready with AES-KEY**"
      ]
    },
    {
      "cell_type": "code",
      "metadata": {
        "id": "QLzc6tLEGeki"
      },
      "source": [
        "AES_KEY = ''.join(random.choice(string.ascii_uppercase + string.ascii_lowercase + string.digits) for x in range(32))\n",
        "\n",
        "AES_IV = ''.join(random.choice(string.ascii_uppercase + string.ascii_lowercase + string.digits) for x in range(16))"
      ],
      "execution_count": null,
      "outputs": []
    },
    {
      "cell_type": "code",
      "metadata": {
        "colab": {
          "base_uri": "https://localhost:8080/"
        },
        "id": "pIceoyj5Genc",
        "outputId": "e22c0022-9874-4919-8a17-55b37f1caa77"
      },
      "source": [
        "\n",
        "print(\"AES Key is \", AES_KEY)\n",
        "print(\"AES Initialization vector is \", AES_IV)"
      ],
      "execution_count": null,
      "outputs": [
        {
          "output_type": "stream",
          "text": [
            "AES Key is  5PHmn2glCOGL0VJI8tx9XFQrqp0u7lWo\n",
            "AES Initialization vector is  C8cwYykBflHmogtZ\n"
          ],
          "name": "stdout"
        }
      ]
    },
    {
      "cell_type": "code",
      "metadata": {
        "id": "F2MvG639Gep9"
      },
      "source": [
        ""
      ],
      "execution_count": null,
      "outputs": []
    },
    {
      "cell_type": "markdown",
      "metadata": {
        "id": "8AaOXSgoJowW"
      },
      "source": [
        "**Encrpytion of audio file**"
      ]
    },
    {
      "cell_type": "code",
      "metadata": {
        "id": "mQjC4SMPGesf"
      },
      "source": [
        "encryptor = AES.new(AES_KEY.encode(\"utf-8\"), AES.MODE_CFB, AES_IV.encode(\"utf-8\"))\n",
        "encrypted_audio = encryptor.encrypt(contents)"
      ],
      "execution_count": null,
      "outputs": []
    },
    {
      "cell_type": "code",
      "metadata": {
        "id": "rCZLba80Gj7R"
      },
      "source": [
        ""
      ],
      "execution_count": null,
      "outputs": []
    },
    {
      "cell_type": "markdown",
      "metadata": {
        "id": "0ML3SkueJuvA"
      },
      "source": [
        "**Saving the encrypted file**"
      ]
    },
    {
      "cell_type": "code",
      "metadata": {
        "colab": {
          "base_uri": "https://localhost:8080/"
        },
        "id": "oFSSVaNsGkww",
        "outputId": "640d2b96-e59b-43c6-80f6-fd79d2c31568"
      },
      "source": [
        "with open('encrypted_audio_file.wav', 'wb') as fd:\n",
        "    fd.write(encrypted_audio)\n",
        "print(\"A file titled 'encrypted_audio_file.wav' is generated which is the encrypted audio to be communicated\")"
      ],
      "execution_count": null,
      "outputs": [
        {
          "output_type": "stream",
          "text": [
            "A file titled 'encrypted_audio_file.wav' is generated which is the encrypted audio to be communicated\n"
          ],
          "name": "stdout"
        }
      ]
    },
    {
      "cell_type": "code",
      "metadata": {
        "id": "mR6r8r0_Gkzx"
      },
      "source": [
        ""
      ],
      "execution_count": null,
      "outputs": []
    },
    {
      "cell_type": "markdown",
      "metadata": {
        "id": "vdHwoltGJ0d6"
      },
      "source": [
        "\n",
        "**Loading**"
      ]
    },
    {
      "cell_type": "code",
      "metadata": {
        "id": "yerPpryZGk2w"
      },
      "source": [
        "\n",
        "with open('encrypted_audio_file.wav', 'rb') as fd:\n",
        "    contents = fd.read()"
      ],
      "execution_count": null,
      "outputs": []
    },
    {
      "cell_type": "code",
      "metadata": {
        "id": "2PJABvtKGk5m"
      },
      "source": [
        ""
      ],
      "execution_count": null,
      "outputs": []
    },
    {
      "cell_type": "markdown",
      "metadata": {
        "id": "vtucU948J8xt"
      },
      "source": [
        "**Decryption of data**"
      ]
    },
    {
      "cell_type": "code",
      "metadata": {
        "id": "_6SUEOBRGxHY"
      },
      "source": [
        "decryptor = AES.new(AES_KEY.encode(\"utf-8\"), AES.MODE_CFB, AES_IV.encode(\"utf-8\"))\n",
        "decrypted_audio = decryptor.decrypt(contents)"
      ],
      "execution_count": null,
      "outputs": []
    },
    {
      "cell_type": "code",
      "metadata": {
        "id": "uqWouN4ZGxKQ"
      },
      "source": [
        "with open('decrypted_audio_file.wav', 'wb') as fd:\n",
        "    fd.write(decrypted_audio)"
      ],
      "execution_count": null,
      "outputs": []
    },
    {
      "cell_type": "code",
      "metadata": {
        "colab": {
          "base_uri": "https://localhost:8080/",
          "height": 281
        },
        "id": "kUsZzWPOGxNS",
        "outputId": "78aae013-fcc2-4053-b401-e25294b40fdb"
      },
      "source": [
        "fs, data = wavfile.read('decrypted_audio_file.wav')\n",
        "plt.plot(data)            # fs = sampling frequency = 44.1kHz\n",
        "plt.title(\"Original Audio Plot\")\n",
        "data_1 = np.asarray(data, dtype = np.int32)"
      ],
      "execution_count": null,
      "outputs": [
        {
          "output_type": "display_data",
          "data": {
            "image/png": "[encoded data removed]",
            "text/plain": [
              "<Figure size 432x288 with 1 Axes>"
            ]
          },
          "metadata": {
            "tags": [],
            "needs_background": "light"
          }
        }
      ]
    },
    {
      "cell_type": "markdown",
      "metadata": {
        "id": "xRUy0RfRKA_P"
      },
      "source": [
        "**USING RSA ALGORITHM ON AUDIO FILE**"
      ]
    },
    {
      "cell_type": "code",
      "metadata": {
        "id": "_TlfLpU1Gk8c"
      },
      "source": [
        "from scipy.io import wavfile\n",
        "import numpy as np\n",
        "import matplotlib.pyplot as plt\n",
        "import sounddevice as sd"
      ],
      "execution_count": null,
      "outputs": []
    },
    {
      "cell_type": "markdown",
      "metadata": {
        "id": "fG8NSHuVHSip"
      },
      "source": [
        "**Generating public and private keys for RSA algorithm**\n",
        "\n",
        "\n",
        "Select two prime no's. Suppose P = 53 and Q = 59.\n",
        "\n",
        "Now First part of the Public key : n = P*Q = 3127.\n",
        "\n",
        "We also need a small exponent say e : But e Must be\n",
        "\n",
        "1) An integer.\n",
        "\n",
        "2) Not be a factor of n.\n",
        "\n",
        "3) 1 < e < Φ(n) [Φ(n) is discussed below], \n",
        "Let us now consider it to be equal to 3.\n",
        "\n",
        "Our Public Key is made of n and e\n",
        "\n",
        "1) We need to calculate Φ(n):\n",
        "\n",
        "Such that Φ(n) = (P-1)(Q-1)     \n",
        "  so,  Φ(n) = 3016\n",
        "\n",
        "\n",
        "2) Now calculate Private Key, d :\n",
        "\n",
        "d = (k*Φ(n) + 1) / e for some integer k\n",
        "For k = 2, value of d is 2011."
      ]
    },
    {
      "cell_type": "code",
      "metadata": {
        "colab": {
          "base_uri": "https://localhost:8080/"
        },
        "id": "1pvQQSTRHNBK",
        "outputId": "b6509f7a-093e-42eb-d152-73cb0cf6a2a6"
      },
      "source": [
        "p1 = int(input(\"Enter a prime number: \"))\n",
        "p2 = int(input(\"Enter another prime number: \"))\n",
        "\n",
        "n = p1*p2\n",
        "print(\"n = p1*p2 = \",n)"
      ],
      "execution_count": null,
      "outputs": [
        {
          "output_type": "stream",
          "text": [
            "Enter a prime number: 3\n",
            "Enter another prime number: 7\n",
            "n = p1*p2 =  21\n"
          ],
          "name": "stdout"
        }
      ]
    },
    {
      "cell_type": "code",
      "metadata": {
        "colab": {
          "base_uri": "https://localhost:8080/"
        },
        "id": "1FVJ4tVvHNvE",
        "outputId": "c4cefee0-5348-4202-f6dd-859014278fed"
      },
      "source": [
        "\n",
        "e = int(input(\"Enter a small, odd number, co-prime with n: \"))\n",
        "k = int(input(\"Enter value of k:\"))"
      ],
      "execution_count": null,
      "outputs": [
        {
          "output_type": "stream",
          "text": [
            "Enter a small, odd number, co-prime with n: 1\n",
            "Enter value of k:5\n"
          ],
          "name": "stdout"
        }
      ]
    },
    {
      "cell_type": "code",
      "metadata": {
        "colab": {
          "base_uri": "https://localhost:8080/"
        },
        "id": "Jf6w8R8VHNyF",
        "outputId": "bc407119-1d2d-4605-9751-ca7c848cddb2"
      },
      "source": [
        "phi = (p1-1)*(p2-1)\n",
        "print(\"phi = \",phi)\n",
        "d = int((k*phi+1)/e)\n",
        "print(\"d= \",d)"
      ],
      "execution_count": null,
      "outputs": [
        {
          "output_type": "stream",
          "text": [
            "phi =  12\n",
            "d=  61\n"
          ],
          "name": "stdout"
        }
      ]
    },
    {
      "cell_type": "code",
      "metadata": {
        "colab": {
          "base_uri": "https://localhost:8080/"
        },
        "id": "v0ty_zciHps7",
        "outputId": "33b594f7-a02f-4ac8-c9de-4b7682efb55b"
      },
      "source": [
        "public_key = n,e\n",
        "private_key = n,d\n",
        "\n",
        "print(\"Public Key = \", public_key)\n",
        "print(\"Private Key = \",private_key)"
      ],
      "execution_count": null,
      "outputs": [
        {
          "output_type": "stream",
          "text": [
            "Public Key =  (21, 1)\n",
            "Private Key =  (21, 61)\n"
          ],
          "name": "stdout"
        }
      ]
    },
    {
      "cell_type": "markdown",
      "metadata": {
        "id": "VxGZ5LdQHxMw"
      },
      "source": [
        "\n",
        " **Encrpytion of audio file**"
      ]
    },
    {
      "cell_type": "code",
      "metadata": {
        "colab": {
          "base_uri": "https://localhost:8080/",
          "height": 299
        },
        "id": "FMOqNGuLHpwG",
        "outputId": "c23bbce0-c1c9-44d0-e952-eed721e6b203"
      },
      "source": [
        "encrypted = (data**e)%n\n",
        "plt.plot(encrypted)\n",
        "plt.title(\"Encrypted Audio Plot\")\n"
      ],
      "execution_count": null,
      "outputs": [
        {
          "output_type": "execute_result",
          "data": {
            "text/plain": [
              "Text(0.5, 1.0, 'Encrypted Audio Plot')"
            ]
          },
          "metadata": {
            "tags": []
          },
          "execution_count": 50
        },
        {
          "output_type": "display_data",
          "data": {
            "image/png": "[encoded data removed]",
            "text/plain": [
              "<Figure size 432x288 with 1 Axes>"
            ]
          },
          "metadata": {
            "tags": [],
            "needs_background": "light"
          }
        }
      ]
    },
    {
      "cell_type": "markdown",
      "metadata": {
        "id": "L6cIWrYHH7pm"
      },
      "source": [
        "**Saving the saved file**"
      ]
    },
    {
      "cell_type": "code",
      "metadata": {
        "colab": {
          "base_uri": "https://localhost:8080/"
        },
        "id": "q-XVnb-dHpzo",
        "outputId": "a15d97da-5504-482d-bc9f-8899c52ba6a2"
      },
      "source": [
        "encrypted = np.asarray(encrypted, dtype=np.int16)\n",
        "wavfile.write('encrypted_rsa.wav', fs, encrypted)\n",
        "print(\"A file titled 'encrypted_rsa.wav' is generated which is the encrypted audio to be communicated\")"
      ],
      "execution_count": null,
      "outputs": [
        {
          "output_type": "stream",
          "text": [
            "A file titled 'encrypted_rsa.wav' is generated which is the encrypted audio to be communicated\n"
          ],
          "name": "stdout"
        }
      ]
    },
    {
      "cell_type": "markdown",
      "metadata": {
        "id": "smb5W7_TICrH"
      },
      "source": [
        "**Loading and decrypting**"
      ]
    },
    {
      "cell_type": "code",
      "metadata": {
        "colab": {
          "base_uri": "https://localhost:8080/",
          "height": 299
        },
        "id": "p2VzR5DGHp29",
        "outputId": "6bbecf02-0436-47a2-ad10-d15cc538d101"
      },
      "source": [
        "fs, Data = wavfile.read('encrypted_rsa.wav')\n",
        "plt.plot(Data)\n",
        "plt.title(\"Encrypted Audio Plot\")"
      ],
      "execution_count": null,
      "outputs": [
        {
          "output_type": "execute_result",
          "data": {
            "text/plain": [
              "Text(0.5, 1.0, 'Encrypted Audio Plot')"
            ]
          },
          "metadata": {
            "tags": []
          },
          "execution_count": 52
        },
        {
          "output_type": "display_data",
          "data": {
            "image/png": "[encoded data removed]",
            "text/plain": [
              "<Figure size 432x288 with 1 Axes>"
            ]
          },
          "metadata": {
            "tags": [],
            "needs_background": "light"
          }
        }
      ]
    },
    {
      "cell_type": "markdown",
      "metadata": {
        "id": "xxSajHYGIMiN"
      },
      "source": [
        "**Decryption of data**"
      ]
    },
    {
      "cell_type": "code",
      "metadata": {
        "colab": {
          "base_uri": "https://localhost:8080/",
          "height": 299
        },
        "id": "ln-laC9CIP0B",
        "outputId": "2b69883c-b2da-4930-88f8-8a13d024e51d"
      },
      "source": [
        "\n",
        "decrypted = (Data**d)%n\n",
        "plt.plot(decrypted)\n",
        "plt.title('Decrypted Audio Plot')"
      ],
      "execution_count": null,
      "outputs": [
        {
          "output_type": "execute_result",
          "data": {
            "text/plain": [
              "Text(0.5, 1.0, 'Decrypted Audio Plot')"
            ]
          },
          "metadata": {
            "tags": []
          },
          "execution_count": 53
        },
        {
          "output_type": "display_data",
          "data": {
            "image/png": "[encoded data removed]",
            "text/plain": [
              "<Figure size 432x288 with 1 Axes>"
            ]
          },
          "metadata": {
            "tags": [],
            "needs_background": "light"
          }
        }
      ]
    },
    {
      "cell_type": "code",
      "metadata": {
        "id": "7TTsMusrIP2k"
      },
      "source": [
        ""
      ],
      "execution_count": null,
      "outputs": []
    },
    {
      "cell_type": "code",
      "metadata": {
        "id": "opz2qj_-IP5M"
      },
      "source": [
        ""
      ],
      "execution_count": null,
      "outputs": []
    },
    {
      "cell_type": "code",
      "metadata": {
        "id": "hC-2jxImIP73"
      },
      "source": [
        ""
      ],
      "execution_count": null,
      "outputs": []
    },
    {
      "cell_type": "code",
      "metadata": {
        "id": "VvJLDPBcIP-r"
      },
      "source": [
        ""
      ],
      "execution_count": null,
      "outputs": []
    },
    {
      "cell_type": "code",
      "metadata": {
        "id": "gRd4ZH1PIQCY"
      },
      "source": [
        ""
      ],
      "execution_count": null,
      "outputs": []
    },
    {
      "cell_type": "markdown",
      "metadata": {
        "id": "v9vhguW7HRmD"
      },
      "source": [
        ""
      ]
    }
  ]
}